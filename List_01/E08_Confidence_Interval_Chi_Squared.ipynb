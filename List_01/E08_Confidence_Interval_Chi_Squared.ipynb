{
 "cells": [
  {
   "cell_type": "markdown",
   "id": "2f95bfab",
   "metadata": {},
   "source": [
    "# E08: CI for Population Standard Deviation (σ)\n",
    "\n",
    "This notebook solves Exercise 8, which requires constructing a 95% confidence interval for the true population standard deviation ($\\sigma$), given a sample standard deviation ($s$) and sample size ($n$).\n",
    "\n",
    "## Theoretical Background\n",
    "\n",
    "To estimate the population variance ($\\sigma^2$) or standard deviation ($\\sigma$), we use the Chi-squared ($\\chi^2$) distribution.\n",
    "\n",
    "### Key Distributional Assumption\n",
    "The primary assumption for this method is that the **sample is drawn from a normally distributed population**. This assumption is critical for the validity of the interval.\n",
    "\n",
    "### The Chi-Squared Statistic and Interval Formula\n",
    "The statistic $\\frac{(n-1)s^2}{\\sigma^2}$ follows a Chi-squared distribution with $n-1$ degrees of freedom. Due to the asymmetry of the $\\chi^2$ distribution, the confidence interval for the population variance $\\sigma^2$ is defined by two different critical values:\n",
    "\n",
    "$$ \\frac{(n-1)s^2}{\\chi^2_{\\text{upper}}} \\le \\sigma^2 \\le \\frac{(n-1)s^2}{\\chi^2_{\\text{lower}}} $$\n",
    "\n",
    "where:\n",
    "- $\\chi^2_{\\text{lower}} = \\chi^2_{1-\\alpha/2, n-1}$\n",
    "- $\\chi^2_{\\text{upper}} = \\chi^2_{\\alpha/2, n-1}$\n",
    "\n",
    "The confidence interval for the standard deviation $\\sigma$ is simply the square root of the bounds of the interval for the variance."
   ]
  },
  {
   "cell_type": "markdown",
   "id": "b8e0f46e",
   "metadata": {},
   "source": [
    "## Step 1: Define Given Parameters\n",
    "Let's define the parameters from the problem statement."
   ]
  },
  {
   "cell_type": "code",
   "execution_count": 1,
   "id": "770867c8",
   "metadata": {},
   "outputs": [],
   "source": [
    "# --- Problem Parameters ---\n",
    "n = 100         # Sample size\n",
    "s = 0.25        # Sample standard deviation (in seconds)\n",
    "confidence_level = 0.95"
   ]
  },
  {
   "cell_type": "markdown",
   "id": "bf88288f",
   "metadata": {},
   "source": [
    "## Step 2: Determine Degrees of Freedom and Critical Values (χ²)\n",
    "\n",
    "We need to find the two critical values from the $\\chi^2$ distribution for a 95% confidence level and $n-1$ degrees of freedom."
   ]
  },
  {
   "cell_type": "code",
   "execution_count": 2,
   "id": "10af9e55",
   "metadata": {},
   "outputs": [
    {
     "name": "stdout",
     "output_type": "stream",
     "text": [
      "Degrees of Freedom (df): 99\n",
      "Confidence Level: 95%\n",
      "Lower Critical Value (χ²_0.975,99): 73.3611\n",
      "Upper Critical Value (χ²_0.025,99): 128.4220\n"
     ]
    }
   ],
   "source": [
    "import scipy.stats as stats\n",
    "\n",
    "# Calculate Degrees of Freedom (df)\n",
    "df = n - 1\n",
    "\n",
    "# Determine the critical values\n",
    "alpha = 1 - confidence_level\n",
    "\n",
    "# Lower critical value (leaves 1 - alpha/2 area to the right, so we use alpha/2 for the left-tail ppf)\n",
    "chi2_lower = stats.chi2.ppf(alpha / 2, df=df)\n",
    "\n",
    "# Upper critical value (leaves alpha/2 area to the right, so we use 1 - alpha/2 for the left-tail ppf)\n",
    "chi2_upper = stats.chi2.ppf(1 - alpha / 2, df=df)\n",
    "\n",
    "print(f\"Degrees of Freedom (df): {df}\")\n",
    "print(f\"Confidence Level: {confidence_level:.0%}\")\n",
    "print(f\"Lower Critical Value (χ²_0.975,99): {chi2_lower:.4f}\")\n",
    "print(f\"Upper Critical Value (χ²_0.025,99): {chi2_upper:.4f}\")"
   ]
  },
  {
   "cell_type": "markdown",
   "id": "b63ca287",
   "metadata": {},
   "source": [
    "## Step 3: Calculate the Confidence Interval\n",
    "\n",
    "Now, we apply the formulas to find the interval for the variance ($\\sigma^2$) and then for the standard deviation ($\\sigma$)."
   ]
  },
  {
   "cell_type": "code",
   "execution_count": 4,
   "id": "70ba1a6c",
   "metadata": {},
   "outputs": [
    {
     "name": "stdout",
     "output_type": "stream",
     "text": [
      "--- Calculation Results ---\n",
      "Numerator term (n-1)s²: 6.1875\n",
      "\n",
      "95% Confidence Interval for the Variance (σ²):\n",
      "(0.0482, 0.0843)\n",
      "\n",
      "95% Confidence Interval for the Standard Deviation (σ):\n",
      "(0.2195s, 0.2904s)\n"
     ]
    }
   ],
   "source": [
    "import numpy as np\n",
    "\n",
    "# Calculate the numerator term (n-1)s^2\n",
    "numerator = (n - 1) * s**2\n",
    "\n",
    "# --- Calculate the CI for the Variance (σ²) ---\n",
    "lower_bound_var = numerator / chi2_upper\n",
    "upper_bound_var = numerator / chi2_lower\n",
    "\n",
    "# --- Calculate the CI for the Standard Deviation (σ) ---\n",
    "lower_bound_std = np.sqrt(lower_bound_var)\n",
    "upper_bound_std = np.sqrt(upper_bound_var)\n",
    "\n",
    "\n",
    "print(\"--- Calculation Results ---\")\n",
    "print(f\"Numerator term (n-1)s²: {numerator:.4f}\")\n",
    "print(f\"\\n95% Confidence Interval for the Variance (σ²):\")\n",
    "print(f\"({lower_bound_var:.4f}, {upper_bound_var:.4f})\")\n",
    "print(f\"\\n95% Confidence Interval for the Standard Deviation (σ):\")\n",
    "print(f\"({lower_bound_std:.4f}s, {upper_bound_std:.4f}s)\")"
   ]
  },
  {
   "cell_type": "markdown",
   "id": "5c767506",
   "metadata": {},
   "source": [
    "## Step 4: Final Conclusion and Assumption\n",
    "\n",
    "**Required Distributional Assumption:**\n",
    "For this confidence interval to be valid, we must assume that the underlying population from which the 100-run experiment was sampled is **normally distributed**.\n",
    "\n",
    "**Computed 95% Confidence Interval for σ: (0.2195s, 0.2904s)**\n",
    "\n",
    "**Interpretation:**\n",
    "We are 95% confident that the true, unknown standard deviation of the process being measured is between 0.2195s and 0.2904s. This interval provides a range of plausible values for the true process variability."
   ]
  }
 ],
 "metadata": {
  "kernelspec": {
   "display_name": ".venv",
   "language": "python",
   "name": "python3"
  },
  "language_info": {
   "codemirror_mode": {
    "name": "ipython",
    "version": 3
   },
   "file_extension": ".py",
   "mimetype": "text/x-python",
   "name": "python",
   "nbconvert_exporter": "python",
   "pygments_lexer": "ipython3",
   "version": "3.13.5"
  }
 },
 "nbformat": 4,
 "nbformat_minor": 5
}
