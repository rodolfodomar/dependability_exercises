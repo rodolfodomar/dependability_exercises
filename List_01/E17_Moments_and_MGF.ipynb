{
 "cells": [
  {
   "cell_type": "markdown",
   "id": "a5e24862",
   "metadata": {},
   "source": [
    "# E17: Characterizing Distributions with Moments and MGFs\n",
    "\n",
    "**Objective:** This notebook provides a deep dive into the fundamental properties of several key probability distributions. We will move beyond simple mean and variance to calculate higher-order moments (skewness, kurtosis) and explore the powerful Moment Generating Function (MGF).\n",
    "\n",
    "This exercise serves as a bridge between descriptive statistics and the core theoretical machinery of probability distributions. We will:\n",
    "1.  **Calculate Foundational Moments:** For five different distributions, compute the first moment about the origin ($\\mu'_1$, the mean), the second moment about the origin ($\\mu'_2$), and the second central moment ($\\mu_2$, the variance).\n",
    "2.  **Analyze Distribution Shape:** Compute the standardized third and fourth moments to quantify skewness and kurtosis, providing a numerical description of each distribution's shape.\n",
    "3.  **Leverage the MGF:** For the first four distributions, we will work with their Moment Generating Functions to verify how they can be used to derive the mean and variance."
   ]
  },
  {
   "cell_type": "markdown",
   "id": "6d06dff4",
   "metadata": {},
   "source": [
    "### 1. Setup\n",
    "\n",
    "We import `scipy.stats`, our primary tool for accessing the properties of these distributions. We then define the parameters for each case as specified in `Table 11`."
   ]
  },
  {
   "cell_type": "code",
   "execution_count": 9,
   "id": "b6e0a128",
   "metadata": {},
   "outputs": [],
   "source": [
    "import numpy as np\n",
    "from scipy.stats import bernoulli, binom, norm, chi2, t\n",
    "import sympy as sp\n",
    "\n",
    "# Define parameters for each case from Table 11\n",
    "params = {\n",
    "    'A': {'dist': bernoulli, 'p': 0.8},\n",
    "    'B': {'dist': binom, 'n': 20, 'p': 0.3},\n",
    "    'C': {'dist': norm, 'loc': 20, 'scale': 2}, # scale is std. dev., so sqrt(4)\n",
    "    'D': {'dist': chi2, 'df': 20},\n",
    "    'E': {'dist': t, 'df': 20}\n",
    "}"
   ]
  },
  {
   "cell_type": "markdown",
   "id": "6f07a4d4",
   "metadata": {},
   "source": [
    "### (a) Moments about the Origin and the Mean\n",
    "\n",
    "For each distribution, we will compute:\n",
    "-   $\\mu'_1 = E[X]$ (Mean)\n",
    "-   $\\mu_2 = E[(X-E[X])^2]$ (Variance)\n",
    "-   $\\mu'_2 = E[X^2]$\n",
    "\n",
    "We will use the convenient `stats()` method from `scipy`, which can provide these values directly. We will also use the fundamental relationship $\\mu'_2 = \\text{Var}(X) + (E[X])^2 = \\mu_2 + (\\mu'_1)^2$ to calculate the second moment about theorigin."
   ]
  },
  {
   "cell_type": "code",
   "execution_count": 10,
   "id": "27f01ccc",
   "metadata": {},
   "outputs": [
    {
     "name": "stdout",
     "output_type": "stream",
     "text": [
      "(a) Origin and Central Moments ---\n",
      "\n",
      "Case A (Bernoulli):\n",
      "  μ'_1 (Mean):              0.8000\n",
      "  μ_2 (Variance):           0.1600\n",
      "  μ'_2 (Second Origin Mom): 0.8000\n",
      "\n",
      "Case B (Binom):\n",
      "  μ'_1 (Mean):              6.0000\n",
      "  μ_2 (Variance):           4.2000\n",
      "  μ'_2 (Second Origin Mom): 40.2000\n",
      "\n",
      "Case C (Norm):\n",
      "  μ'_1 (Mean):              20.0000\n",
      "  μ_2 (Variance):           4.0000\n",
      "  μ'_2 (Second Origin Mom): 404.0000\n",
      "\n",
      "Case D (Chi2):\n",
      "  μ'_1 (Mean):              20.0000\n",
      "  μ_2 (Variance):           40.0000\n",
      "  μ'_2 (Second Origin Mom): 440.0000\n",
      "\n",
      "Case E (T):\n",
      "  μ'_1 (Mean):              0.0000\n",
      "  μ_2 (Variance):           1.1111\n",
      "  μ'_2 (Second Origin Mom): 1.1111\n"
     ]
    }
   ],
   "source": [
    "print(\"(a) Origin and Central Moments ---\")\n",
    "\n",
    "for case_id, p in params.items():\n",
    "    dist_name = p['dist'].name\n",
    "    # Unpack parameters for the specific distribution\n",
    "    args = {k: v for k, v in p.items() if k != 'dist'}\n",
    "    \n",
    "    # Get mean and variance\n",
    "    mean, var = p['dist'].stats(**args, moments='mv')\n",
    "    \n",
    "    # Calculate mu'_2 using the relation: var = E[X^2] - (E[X])^2\n",
    "    mu_1_prime = float(mean)\n",
    "    mu_2 = float(var)\n",
    "    mu_2_prime = mu_2 + mu_1_prime**2\n",
    "    \n",
    "    print(f\"\\nCase {case_id} ({dist_name.capitalize()}):\")\n",
    "    print(f\"  μ'_1 (Mean):              {mu_1_prime:.4f}\")\n",
    "    print(f\"  μ_2 (Variance):           {mu_2:.4f}\")\n",
    "    print(f\"  μ'_2 (Second Origin Mom): {mu_2_prime:.4f}\")"
   ]
  },
  {
   "cell_type": "markdown",
   "id": "d1391ae5",
   "metadata": {},
   "source": [
    "### (b) Standardized Moments (Skewness and Kurtosis)\n",
    "\n",
    "Now we analyze the shape. We'll compute:\n",
    "-   **Skewness ($\\beta_3$)**: A measure of asymmetry.\n",
    "-   **Kurtosis ($\\beta_4$)**: A measure of the \"tailedness\" relative to a Normal distribution. We will report the **excess kurtosis**, which is $\\beta_4 - 3$.\n",
    "\n",
    "For the Student's t-distribution, moments are only defined if the degrees of freedom (`df`) are greater than the moment order. For Case E (`df=20`), skewness (`moment=3`) and kurtosis (`moment=4`) are well-defined."
   ]
  },
  {
   "cell_type": "code",
   "execution_count": 11,
   "id": "72dfdda8",
   "metadata": {},
   "outputs": [
    {
     "name": "stdout",
     "output_type": "stream",
     "text": [
      "(b) Standardized Moments (Shape) ---\n",
      "\n",
      "Case A (Bernoulli):\n",
      "  β_3 (Skewness):         -1.5000\n",
      "  Excess Kurtosis:        0.2500\n",
      "\n",
      "Case B (Binom):\n",
      "  β_3 (Skewness):         0.1952\n",
      "  Excess Kurtosis:        -0.0619\n",
      "\n",
      "Case C (Norm):\n",
      "  β_3 (Skewness):         0.0000\n",
      "  Excess Kurtosis:        0.0000\n",
      "\n",
      "Case D (Chi2):\n",
      "  β_3 (Skewness):         0.6325\n",
      "  Excess Kurtosis:        0.6000\n",
      "\n",
      "Case E (T):\n",
      "  β_3 (Skewness):         0.0000\n",
      "  Excess Kurtosis:        0.3750\n"
     ]
    }
   ],
   "source": [
    "print(\"(b) Standardized Moments (Shape) ---\")\n",
    "\n",
    "for case_id, p in params.items():\n",
    "    dist_name = p['dist'].name\n",
    "    args = {k: v for k, v in p.items() if k != 'dist'}\n",
    "    \n",
    "    # Get skewness and kurtosis\n",
    "    # The 's' and 'k' moments give skew and *excess* kurtosis\n",
    "    _, _, skew, kurt = p['dist'].stats(**args, moments='mvsk')\n",
    "    \n",
    "    print(f\"\\nCase {case_id} ({dist_name.capitalize()}):\")\n",
    "    \n",
    "    if np.isnan(skew):\n",
    "        print(f\"  β_3 (Skewness):         Does not exist\")\n",
    "    else:\n",
    "        print(f\"  β_3 (Skewness):         {float(skew):.4f}\")\n",
    "        \n",
    "    if np.isnan(kurt):\n",
    "         print(f\"  Excess Kurtosis:        Does not exist\")\n",
    "    else:\n",
    "        print(f\"  Excess Kurtosis:        {float(kurt):.4f}\")"
   ]
  },
  {
   "cell_type": "markdown",
   "id": "4736409b",
   "metadata": {},
   "source": [
    "### (c) Moment Generating Functions (MGF)\n",
    "\n",
    "Finally, we'll demonstrate the power of the MGF for the first four cases. We will:\n",
    "1.  Define the MGF for each distribution symbolically using `sympy`.\n",
    "2.  Calculate its first and second derivatives with respect to `t`.\n",
    "3.  Evaluate these derivatives at `t=0` to find $\\mu'_1$ and $\\mu'_2$.\n",
    "4.  Verify that these results match our calculations from Part (a).\n",
    "\n",
    "**Note:** The MGF for the Student's t-distribution is not defined, so we exclude Case E."
   ]
  },
  {
   "cell_type": "code",
   "execution_count": 12,
   "id": "7e7bdd4d",
   "metadata": {},
   "outputs": [
    {
     "name": "stdout",
     "output_type": "stream",
     "text": [
      "--- Part (c): Verification using MGFs ---\n",
      "\n",
      "Case A (Bernoulli):\n",
      "  MGF: 0.8*exp(t) + 0.2\n",
      "  E[X] from MGF M'(0):   0.8000 (Known: 0.8000)\n",
      "  Var(X) from MGF:       0.1600 (Known: 0.1600)\n",
      "  ✅ Verification successful.\n",
      "\n",
      "Case B (Binom):\n",
      "  MGF: (0.3*exp(t) + 0.7)**20\n",
      "  E[X] from MGF M'(0):   6.0000 (Known: 6.0000)\n",
      "  Var(X) from MGF:       4.2000 (Known: 4.2000)\n",
      "  ✅ Verification successful.\n",
      "\n",
      "Case C (Norm):\n",
      "  MGF: exp(2*t**2 + 20*t)\n",
      "  E[X] from MGF M'(0):   20.0000 (Known: 20.0000)\n",
      "  Var(X) from MGF:       4.0000 (Known: 4.0000)\n",
      "  ✅ Verification successful.\n",
      "\n",
      "Case D (Chi2):\n",
      "  MGF: (1 - 2*t)**(-10.0)\n",
      "  E[X] from MGF M'(0):   20.0000 (Known: 20.0000)\n",
      "  Var(X) from MGF:       40.0000 (Known: 40.0000)\n",
      "  ✅ Verification successful.\n"
     ]
    }
   ],
   "source": [
    "import sympy as sp\n",
    "\n",
    "# Define t as a symbolic variable\n",
    "t = sp.Symbol('t')\n",
    "\n",
    "# --- MGF Definitions ---\n",
    "p_A = params['A']['p']\n",
    "n_B, p_B = params['B']['n'], params['B']['p']\n",
    "mu_C, sigma_C = params['C']['loc'], params['C']['scale']\n",
    "df_D = params['D']['df']\n",
    "\n",
    "mgfs = {\n",
    "    'A': (1 - p_A) + p_A * sp.exp(t),\n",
    "    'B': ( (1 - p_B) + p_B * sp.exp(t) )**n_B,\n",
    "    'C': sp.exp(mu_C * t + (sigma_C**2 * t**2) / 2),\n",
    "    'D': (1 - 2*t)**(-df_D / 2)\n",
    "}\n",
    "\n",
    "print(\"--- Part (c): Verification using MGFs ---\")\n",
    "\n",
    "for case_id, mgf in mgfs.items():\n",
    "    dist_name = params[case_id]['dist'].name\n",
    "    \n",
    "    # Calculate derivatives\n",
    "    mgf_prime_1 = sp.diff(mgf, t)\n",
    "    mgf_prime_2 = sp.diff(mgf_prime_1, t)\n",
    "    \n",
    "    # Evaluate at t=0\n",
    "    mu_1_prime_mgf = mgf_prime_1.evalf(subs={t: 0})\n",
    "    mu_2_prime_mgf = mgf_prime_2.evalf(subs={t: 0})\n",
    "    \n",
    "    # Calculate variance from MGF moments\n",
    "    var_mgf = mu_2_prime_mgf - mu_1_prime_mgf**2\n",
    "    \n",
    "    # Get known values from part (a) for comparison\n",
    "    mean_known, var_known = params[case_id]['dist'].stats(**{k: v for k, v in params[case_id].items() if k != 'dist'}, moments='mv')\n",
    "\n",
    "    print(f\"\\nCase {case_id} ({dist_name.capitalize()}):\")\n",
    "    print(f\"  MGF: {mgf}\")\n",
    "    print(f\"  E[X] from MGF M'(0):   {mu_1_prime_mgf:.4f} (Known: {float(mean_known):.4f})\")\n",
    "    print(f\"  Var(X) from MGF:       {var_mgf:.4f} (Known: {float(var_known):.4f})\")\n",
    "    \n",
    "    assert np.isclose(float(mu_1_prime_mgf), float(mean_known))\n",
    "    assert np.isclose(float(var_mgf), float(var_known))\n",
    "    print(\"  ✅ Verification successful.\")"
   ]
  }
 ],
 "metadata": {
  "kernelspec": {
   "display_name": ".venv",
   "language": "python",
   "name": "python3"
  },
  "language_info": {
   "codemirror_mode": {
    "name": "ipython",
    "version": 3
   },
   "file_extension": ".py",
   "mimetype": "text/x-python",
   "name": "python",
   "nbconvert_exporter": "python",
   "pygments_lexer": "ipython3",
   "version": "3.13.5"
  }
 },
 "nbformat": 4,
 "nbformat_minor": 5
}
