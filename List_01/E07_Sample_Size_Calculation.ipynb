{
 "cells": [
  {
   "cell_type": "markdown",
   "id": "b2f82c3c",
   "metadata": {},
   "source": [
    "# E07: Sample Size for a Desired Margin of Error\n",
    "\n",
    "This notebook calculates the required sample size ($n$) to estimate a population mean with a specified margin of error and confidence level. This is a crucial step in the design of experiments.\n",
    "\n",
    "## Theoretical Background\n",
    "\n",
    "The calculation is based on rearranging the formula for the margin of error (E) of a confidence interval for a mean:\n",
    "$$ E = z_{\\alpha/2} \\cdot \\frac{\\sigma}{\\sqrt{n}} $$\n",
    "\n",
    "Solving for $n$, we get the sample size formula:\n",
    "$$ n = \\left( \\frac{z_{\\alpha/2} \\cdot \\sigma}{E} \\right)^2 $$\n",
    "\n",
    "Where:\n",
    "- **$E$**: The desired margin of error.\n",
    "- **$\\sigma$**: A planning value for the population standard deviation. Often estimated from a previous study.\n",
    "- **$z_{\\alpha/2}$**: The critical value from the standard normal distribution corresponding to the desired confidence level.\n",
    "\n",
    "The final result for $n$ must always be rounded **up** to the next integer to ensure the margin of error is not exceeded."
   ]
  },
  {
   "cell_type": "markdown",
   "id": "5ae63041",
   "metadata": {},
   "source": [
    "## Step 1: Define Given Parameters\n",
    "\n",
    "We'll use the scenario from E6, but with a new desired confidence level and margin of error as specified in E7."
   ]
  },
  {
   "cell_type": "code",
   "execution_count": 1,
   "id": "349ffd15",
   "metadata": {},
   "outputs": [],
   "source": [
    "# --- Problem Parameters ---\n",
    "margin_of_error_E = 5   # Desired margin of error (in ms)\n",
    "s_planning = 32         # Planning value for sigma, from E6 (in ms)\n",
    "confidence_level = 0.99   # Desired confidence level"
   ]
  },
  {
   "cell_type": "markdown",
   "id": "c0e19097",
   "metadata": {},
   "source": [
    "## Step 2: Determine the Critical Value (z)\n",
    "\n",
    "For a 99% confidence interval, the significance level is $\\alpha = 0.01$. The critical value $z_{\\alpha/2}$ corresponds to the z-score that leaves an area of $0.005$ in the upper tail."
   ]
  },
  {
   "cell_type": "code",
   "execution_count": 2,
   "id": "aa276299",
   "metadata": {},
   "outputs": [
    {
     "name": "stdout",
     "output_type": "stream",
     "text": [
      "Confidence Level: 99%\n",
      "Alpha (α): 0.010000000000000009\n",
      "Critical z-value (z_α/2): 2.5758\n"
     ]
    }
   ],
   "source": [
    "import scipy.stats as stats\n",
    "\n",
    "alpha = 1 - confidence_level\n",
    "z_critical = stats.norm.ppf(1 - alpha / 2)\n",
    "\n",
    "print(f\"Confidence Level: {confidence_level:.0%}\")\n",
    "print(f\"Alpha (α): {alpha}\")\n",
    "print(f\"Critical z-value (z_α/2): {z_critical:.4f}\")"
   ]
  },
  {
   "cell_type": "markdown",
   "id": "08aa4a82",
   "metadata": {},
   "source": [
    "## Step 3: Calculate the Required Sample Size (n)\n",
    "\n",
    "Now we plug all the values into the sample size formula. The result will be a floating-point number, which we must then round up."
   ]
  },
  {
   "cell_type": "code",
   "execution_count": 3,
   "id": "fee43ed8",
   "metadata": {},
   "outputs": [
    {
     "name": "stdout",
     "output_type": "stream",
     "text": [
      "--- Calculation Results ---\n",
      "Calculated n (float): 271.7654\n",
      "Required Sample Size (n, rounded up): 272\n"
     ]
    }
   ],
   "source": [
    "import numpy as np\n",
    "\n",
    "# Calculate n using the formula\n",
    "n_float = (z_critical * s_planning / margin_of_error_E)**2\n",
    "\n",
    "# Round up to the next whole number, as we can't have a fraction of an observation\n",
    "n_required = np.ceil(n_float)\n",
    "\n",
    "print(\"--- Calculation Results ---\")\n",
    "print(f\"Calculated n (float): {n_float:.4f}\")\n",
    "print(f\"Required Sample Size (n, rounded up): {int(n_required)}\")"
   ]
  },
  {
   "cell_type": "markdown",
   "id": "e78866d2",
   "metadata": {},
   "source": [
    "## Step 4: Final Conclusion\n",
    "\n",
    "**Required Sample Size: 272**\n",
    "\n",
    "**Conclusion:**\n",
    "\n",
    "To achieve a 99% confidence interval for the true mean round-trip time with a margin of error of no more than $\\pm5$ ms, we need to collect observations from **272 packets**.\n",
    "\n",
    "Collecting 271 samples would result in a margin of error slightly larger than the desired 5 ms, hence the necessity of rounding up to the next integer."
   ]
  }
 ],
 "metadata": {
  "kernelspec": {
   "display_name": ".venv",
   "language": "python",
   "name": "python3"
  },
  "language_info": {
   "codemirror_mode": {
    "name": "ipython",
    "version": 3
   },
   "file_extension": ".py",
   "mimetype": "text/x-python",
   "name": "python",
   "nbconvert_exporter": "python",
   "pygments_lexer": "ipython3",
   "version": "3.13.5"
  }
 },
 "nbformat": 4,
 "nbformat_minor": 5
}
