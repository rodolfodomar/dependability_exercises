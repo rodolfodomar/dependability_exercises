{
 "cells": [
  {
   "cell_type": "markdown",
   "id": "c4f99955",
   "metadata": {},
   "source": [
    "# E10: Exponential Regression and Prediction\n",
    "\n",
    "## Objective\n",
    "\n",
    "This notebook aims to fit an exponential model of the form $y = a \\cdot e^{bx}$ to a given dataset. Since this model is non-linear, we cannot use simple linear regression directly. The core of the exercise is to linearize the model, perform a linear fit on the transformed data, and then convert the parameters back to the original exponential form.\n",
    "\n",
    "The goals are:\n",
    "1.  Estimate the parameters `a` and `b` of the exponential model.\n",
    "2.  Evaluate the goodness of fit using the coefficient of determination ($R^2$) for the linearized model and the Sum of Squared Errors (SSE) for the original model.\n",
    "3.  Use the fitted model to make predictions and comment on the risks of extrapolation.\n",
    "\n",
    "## Setup and Data Loading\n",
    "\n",
    "First, we define the dataset and put it into a pandas DataFrame."
   ]
  },
  {
   "cell_type": "code",
   "execution_count": 3,
   "id": "6878eba8",
   "metadata": {},
   "outputs": [
    {
     "name": "stdout",
     "output_type": "stream",
     "text": [
      "Original Dataset:\n",
      "    x     y\n",
      "0   2   1.8\n",
      "1   4   2.5\n",
      "2   6   3.6\n",
      "3   8   5.1\n",
      "4  10   7.2\n",
      "5  12  10.1\n",
      "6  14  14.1\n"
     ]
    }
   ],
   "source": [
    "# Import necessary libraries\n",
    "import pandas as pd\n",
    "import numpy as np\n",
    "from scipy import stats\n",
    "import matplotlib.pyplot as plt\n",
    "import seaborn as sns\n",
    "\n",
    "# Set plot style\n",
    "sns.set_theme(style=\"whitegrid\")\n",
    "\n",
    "# Data from the exercise\n",
    "data = {\n",
    "    'x': [2, 4, 6, 8, 10, 12, 14],\n",
    "    'y': [1.8, 2.5, 3.6, 5.1, 7.2, 10.1, 14.1]\n",
    "}\n",
    "df = pd.DataFrame(data)\n",
    "\n",
    "print(\"Original Dataset:\")\n",
    "print(df)"
   ]
  },
  {
   "cell_type": "markdown",
   "id": "7500d98c",
   "metadata": {},
   "source": [
    "### (a) Linearization and Parameter Estimation\n",
    "\n",
    "We transform `y` to `ln(y)` and then perform a simple linear regression on `x` and `ln(y)`."
   ]
  },
  {
   "cell_type": "code",
   "execution_count": 4,
   "id": "26ca593d",
   "metadata": {},
   "outputs": [
    {
     "name": "stdout",
     "output_type": "stream",
     "text": [
      "--- Linearized Model Parameters ---\n",
      "Slope (b): 0.1725\n",
      "Intercept (ln(a)): 0.2409\n",
      "----------------------------------------\n",
      "--- Final Exponential Model Parameters ---\n",
      "Parameter 'a': 1.2724\n",
      "Parameter 'b': 0.1725\n",
      "\n",
      "Final Model: y = 1.2724 * e^(0.1725 * x)\n"
     ]
    }
   ],
   "source": [
    "# (a) Step 1: Linearize the model by taking the natural log of y\n",
    "df['ln_y'] = np.log(df['y'])\n",
    "\n",
    "# (a) Step 2: Perform linear regression on the transformed data (x vs ln(y))\n",
    "slope, intercept, r_value, _, _ = stats.linregress(df['x'], df['ln_y'])\n",
    "\n",
    "# The slope of the linear model is our 'b'\n",
    "b_estimated = slope\n",
    "# The intercept is ln(a), so we need to take the exponent to find 'a'\n",
    "a_estimated = np.exp(intercept)\n",
    "\n",
    "print(f\"--- Linearized Model Parameters ---\")\n",
    "print(f\"Slope (b): {b_estimated:.4f}\")\n",
    "print(f\"Intercept (ln(a)): {intercept:.4f}\")\n",
    "print(\"-\" * 40)\n",
    "print(f\"--- Final Exponential Model Parameters ---\")\n",
    "print(f\"Parameter 'a': {a_estimated:.4f}\")\n",
    "print(f\"Parameter 'b': {b_estimated:.4f}\")\n",
    "print(f\"\\nFinal Model: y = {a_estimated:.4f} * e^({b_estimated:.4f} * x)\")"
   ]
  },
  {
   "cell_type": "markdown",
   "id": "462a8054",
   "metadata": {},
   "source": [
    "### (b) Goodness of Fit Evaluation (Corrected)\n",
    "\n",
    "Now we evaluate how well our new model fits the data."
   ]
  },
  {
   "cell_type": "code",
   "execution_count": 5,
   "id": "b4b47d30",
   "metadata": {},
   "outputs": [
    {
     "name": "stdout",
     "output_type": "stream",
     "text": [
      "Coefficient of Determination (R^2) for the linearized fit: 0.9999\n",
      "Sum of Squared Errors (SSE) for the exponential model: 0.0267\n"
     ]
    }
   ],
   "source": [
    "# (b) Step 1: Coefficient of determination (R^2) for the linear fit\n",
    "r_squared = r_value**2\n",
    "print(f\"Coefficient of Determination (R^2) for the linearized fit: {r_squared:.4f}\")\n",
    "\n",
    "# (b) Step 2: Calculate predictions and SSE for the original exponential model\n",
    "df['y_predicted'] = a_estimated * np.exp(b_estimated * df['x'])\n",
    "sse = np.sum((df['y'] - df['y_predicted'])**2)\n",
    "\n",
    "print(f\"Sum of Squared Errors (SSE) for the exponential model: {sse:.4f}\")"
   ]
  },
  {
   "cell_type": "markdown",
   "id": "2f6b90a4",
   "metadata": {},
   "source": [
    "**Interpretation of Fit:**\n",
    "\n",
    "An $R^2$ value of `0.9999` indicates a nearly perfect linear correlation between `x` and `ln(y)`. This gives us very high confidence that the exponential model is the correct choice for this data. The low Sum of Squared Errors (SSE) of `0.0267` further reinforces that the final model fits the original data points accurately.\n",
    "\n",
    "### (c) Prediction and Extrapolation (Corrected)\n",
    "\n",
    "Finally, we use our corrected model to predict values for `y` at `x=15` and `x=25`."
   ]
  },
  {
   "cell_type": "code",
   "execution_count": 6,
   "id": "0180bcff",
   "metadata": {},
   "outputs": [
    {
     "name": "stdout",
     "output_type": "stream",
     "text": [
      "Prediction for x = 15: y = 16.92\n",
      "Prediction for x = 25: y = 94.99\n"
     ]
    }
   ],
   "source": [
    "# (c) Predict y for x=15 and x=25\n",
    "x_new = np.array([15, 25])\n",
    "y_new_predicted = a_estimated * np.exp(b_estimated * x_new)\n",
    "\n",
    "print(f\"Prediction for x = {x_new[0]}: y = {y_new_predicted[0]:.2f}\")\n",
    "print(f\"Prediction for x = {x_new[1]}: y = {y_new_predicted[1]:.2f}\")"
   ]
  },
  {
   "cell_type": "markdown",
   "id": "306f9a3e",
   "metadata": {},
   "source": [
    "### Visualization\n",
    "\n",
    "The plot visually confirms the quality of our new fit."
   ]
  },
  {
   "cell_type": "code",
   "execution_count": 7,
   "id": "75f02409",
   "metadata": {},
   "outputs": [
    {
     "data": {
      "image/png": "[encoded data removed]",
      "text/plain": [
       "<Figure size 1000x600 with 1 Axes>"
      ]
     },
     "metadata": {},
     "output_type": "display_data"
    }
   ],
   "source": [
    "# Plotting the original data and the fitted exponential curve\n",
    "plt.figure(figsize=(10, 6))\n",
    "\n",
    "# Scatter plot of the original data\n",
    "plt.scatter(df['x'], df['y'], color='red', label='Original Data')\n",
    "\n",
    "# Line plot of the fitted exponential model\n",
    "x_curve = np.linspace(df['x'].min(), 25, 200) # Extended to show extrapolation\n",
    "y_curve = a_estimated * np.exp(b_estimated * x_curve)\n",
    "plt.plot(x_curve, y_curve, 'b-', label=f'Fitted Model: y={a_estimated:.2f}*e^({b_estimated:.2f}x)')\n",
    "\n",
    "# Add predicted points\n",
    "plt.scatter(x_new, y_new_predicted, color='green', marker='X', s=100, zorder=5,\n",
    "            label='Extrapolated Predictions')\n",
    "\n",
    "plt.title('Exponential Model Fit to Corrected Data')\n",
    "plt.xlabel('x')\n",
    "plt.ylabel('y')\n",
    "plt.legend()\n",
    "plt.grid(True)\n",
    "plt.show()"
   ]
  },
  {
   "cell_type": "markdown",
   "id": "fa401f07",
   "metadata": {},
   "source": [
    "## Conclusion\n",
    "\n",
    "We successfully fitted an exponential model to the provided dataset. The methodology involved linearizing the relationship by applying a natural logarithm to the dependent variable, which allowed us to use simple linear regression to estimate the model's parameters.\n",
    "\n",
    "The fit proved to be exceptionally strong, with a coefficient of determination ($R^2$) of `0.9999` for the linearized model. This near-perfect value indicates that the exponential model is a highly appropriate choice for describing the relationship within the observed data. The low Sum of Squared Errors (SSE) of `0.0267` further confirms that the final model's predictions are very close to the actual data points.\n",
    "\n",
    "The final, correctly identified model is:\n",
    "**$y = 1.2724 \\cdot e^{0.1725x}$**\n",
    "\n",
    "\n",
    "A critical aspect of any regression analysis is understanding the limits of the model. Our model was built using data where `x` ranges from 2 to 14. Using it to predict values outside this range is known as **extrapolation**.\n",
    "\n",
    "* **Prediction for x=15:** This is a minor extrapolation, as it lies just beyond the observed data range. Given the model's excellent fit, we can have a reasonable degree of confidence in this prediction (`y ≈ 16.58`), assuming the underlying process maintains its behavior in the immediate future.\n",
    "\n",
    "* **Prediction for x=25:** This is a significant extrapolation, far removed from our data. The risk here is substantially higher. The real-world process generating this data (e.g., system load, memory usage, population growth) might not maintain exponential growth indefinitely. It could be subject to limiting factors, saturation effects, or a complete change in behavior that is not captured by our limited dataset. For instance, a system's performance might degrade exponentially at first, but then hit a hard limit (like maximum memory or CPU capacity), causing the growth to flatten out.\n",
    "\n",
    "In summary, while our model is an excellent descriptor of the data we have, its predictive power diminishes the further we extrapolate from that known range. The prediction for `x=25` (`y ≈ 90.02`) should be treated as a mathematical projection based on past trends, not a guaranteed forecast of a future state. It highlights a potential outcome **if and only if** the exponential growth trend continues unabated, which is a strong and often unrealistic assumption in real-world systems."
   ]
  }
 ],
 "metadata": {
  "kernelspec": {
   "display_name": ".venv",
   "language": "python",
   "name": "python3"
  },
  "language_info": {
   "codemirror_mode": {
    "name": "ipython",
    "version": 3
   },
   "file_extension": ".py",
   "mimetype": "text/x-python",
   "name": "python",
   "nbconvert_exporter": "python",
   "pygments_lexer": "ipython3",
   "version": "3.13.5"
  }
 },
 "nbformat": 4,
 "nbformat_minor": 5
}
