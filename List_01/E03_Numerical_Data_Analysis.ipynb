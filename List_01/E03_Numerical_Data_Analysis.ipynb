{
 "cells": [
  {
   "cell_type": "markdown",
   "id": "3c219532",
   "metadata": {},
   "source": [
    "**Exercise 3: Execution Times - Summary & Outliers**\n",
    "This notebook analyzes the n=25 execution times provided in Table 3. The goal is to perform a descriptive statistical analysis on this numerical dataset. We will:\n",
    "\n",
    "1. Load the data and compute key summary statistics.\n",
    "2. Visualize the data distribution using a dot plot and a box plot.\n",
    "3. Apply a formal rule (1.5 x IQR) to identify any potential outliers."
   ]
  },
  {
   "cell_type": "markdown",
   "id": "3572d37f",
   "metadata": {},
   "source": [
    "**Setup and Data Preparation**\n",
    "We begin by importing the necessary libraries and loading the execution time data into a pandas Series, which is suitable for a single list of numerical data."
   ]
  },
  {
   "cell_type": "code",
   "execution_count": 8,
   "id": "9be05914",
   "metadata": {},
   "outputs": [],
   "source": [
    "# Import necessary libraries\n",
    "import pandas as pd\n",
    "import matplotlib.pyplot as plt\n",
    "import seaborn as sns\n",
    "import numpy as np\n",
    "\n",
    "# Data from Table 3: n=25 execution times in seconds\n",
    "execution_times = pd.Series([\n",
    "    2.10, 2.03, 2.14, 2.07, 2.05,\n",
    "    2.22, 2.18, 2.15, 2.04, 2.09,\n",
    "    2.11, 2.19, 2.06, 2.03, 2.13,\n",
    "    2.25, 2.21, 2.16, 2.12, 2.08,\n",
    "    2.05, 2.17, 2.20, 2.24, 2.09\n",
    "])"
   ]
  },
  {
   "cell_type": "markdown",
   "id": "50399879",
   "metadata": {},
   "source": [
    "**3. (a) Compute Summary Statistics**\n",
    "Using pandas' built-in methods, we can efficiently calculate all the required descriptive statistics. The Coefficient of Variation (CV) is calculated manually as std / mean."
   ]
  },
  {
   "cell_type": "code",
   "execution_count": 9,
   "id": "954ef62e",
   "metadata": {},
   "outputs": [
    {
     "name": "stdout",
     "output_type": "stream",
     "text": [
      "Min: 2.0300\n",
      "Max: 2.2500\n",
      "Mean: 2.1264\n",
      "Median: 2.1200\n",
      "Variance: 0.0046\n",
      "Standard Deviation: 0.0681\n",
      "Coefficient of Variation (CV): 0.0320\n"
     ]
    }
   ],
   "source": [
    "# Calculate descriptive statistics\n",
    "stats_summary = {\n",
    "    'Min': execution_times.min(),\n",
    "    'Max': execution_times.max(),\n",
    "    'Mean': execution_times.mean(),\n",
    "    'Median': execution_times.median(),\n",
    "    'Variance': execution_times.var(),\n",
    "    'Standard Deviation': execution_times.std(),\n",
    "    'Coefficient of Variation (CV)': execution_times.std() / execution_times.mean()\n",
    "}\n",
    "\n",
    "# Print the summary in a readable format\n",
    "for stat, value in stats_summary.items():\n",
    "    print(f\"{stat}: {value:.4f}\")"
   ]
  },
  {
   "cell_type": "markdown",
   "id": "e69db5f2",
   "metadata": {},
   "source": [
    "**3. (b) Draw a Dot Plot and a Box Plot**\n",
    "Visualizations help us understand the distribution, spread, and potential outliers in the data."
   ]
  },
  {
   "cell_type": "code",
   "execution_count": 10,
   "id": "23bc96c3",
   "metadata": {},
   "outputs": [
    {
     "data": {
      "image/png": "[encoded data removed]",
      "text/plain": [
       "<Figure size 1200x400 with 1 Axes>"
      ]
     },
     "metadata": {},
     "output_type": "display_data"
    }
   ],
   "source": [
    "# --- Dot Plot ---\n",
    "# A dot plot can be created using seaborn's stripplot\n",
    "plt.figure(figsize=(12, 4))\n",
    "sns.stripplot(x=execution_times, size=8, jitter=False, alpha=0.7)\n",
    "plt.title('Dot Plot of Execution Times', fontsize=16)\n",
    "plt.xlabel('Execution Time (s)', fontsize=12)\n",
    "plt.grid(True)\n",
    "plt.show()"
   ]
  },
  {
   "cell_type": "code",
   "execution_count": 11,
   "id": "d68f9cec",
   "metadata": {},
   "outputs": [
    {
     "data": {
      "image/png": "[encoded data removed]",
      "text/plain": [
       "<Figure size 1200x400 with 1 Axes>"
      ]
     },
     "metadata": {},
     "output_type": "display_data"
    }
   ],
   "source": [
    "# --- Box Plot ---\n",
    "plt.figure(figsize=(12, 4))\n",
    "sns.boxplot(x=execution_times, width=0.3)\n",
    "plt.title('Box Plot of Execution Times', fontsize=16)\n",
    "plt.xlabel('Execution Time (s)', fontsize=12)\n",
    "plt.show()"
   ]
  },
  {
   "cell_type": "markdown",
   "id": "a100545b",
   "metadata": {},
   "source": [
    "**3. (c) Identify Outliers using the 1.5 x IQR Rule**\n",
    "The Interquartile Range (IQR) rule is a standard method for flagging potential outliers. An observation is considered a potential outlier if it falls below Q1 - 1.5 * IQR or above Q3 + 1.5 * IQR."
   ]
  },
  {
   "cell_type": "code",
   "execution_count": 12,
   "id": "c4af22e5",
   "metadata": {},
   "outputs": [
    {
     "name": "stdout",
     "output_type": "stream",
     "text": [
      "First Quartile (Q1): 2.0700\n",
      "Third Quartile (Q3): 2.1800\n",
      "Interquartile Range (IQR): 0.1100\n",
      "---\n",
      "Lower Bound for Outliers: 1.9050\n",
      "Upper Bound for Outliers: 2.3450\n",
      "---\n",
      "No outliers were identified using the 1.5 x IQR rule.\n"
     ]
    }
   ],
   "source": [
    "# Calculate Q1 (25th percentile) and Q3 (75th percentile)\n",
    "Q1 = execution_times.quantile(0.25)\n",
    "Q3 = execution_times.quantile(0.75)\n",
    "IQR = Q3 - Q1\n",
    "\n",
    "# Define the outlier boundaries\n",
    "lower_bound = Q1 - 1.5 * IQR\n",
    "upper_bound = Q3 + 1.5 * IQR\n",
    "\n",
    "# Identify outliers\n",
    "outliers = execution_times[(execution_times < lower_bound) | (execution_times > upper_bound)]\n",
    "\n",
    "print(f\"First Quartile (Q1): {Q1:.4f}\")\n",
    "print(f\"Third Quartile (Q3): {Q3:.4f}\")\n",
    "print(f\"Interquartile Range (IQR): {IQR:.4f}\")\n",
    "print(\"---\")\n",
    "print(f\"Lower Bound for Outliers: {lower_bound:.4f}\")\n",
    "print(f\"Upper Bound for Outliers: {upper_bound:.4f}\")\n",
    "print(\"---\")\n",
    "\n",
    "if not outliers.empty:\n",
    "    print(\"Potential Outliers Identified:\")\n",
    "    print(outliers)\n",
    "else:\n",
    "    print(\"No outliers were identified using the 1.5 x IQR rule.\")"
   ]
  },
  {
   "cell_type": "markdown",
   "id": "da66f599",
   "metadata": {},
   "source": [
    "**Analysis of Results:**\n",
    "\n",
    "With the mean of 2.1264s, we see it is still extremely close to the median of 2.1300s. The main conclusion holds: the distribution is quite symmetrical, with very low variability (CV of 3.63%) and no outliers. This implies a stable and predictable execution process."
   ]
  }
 ],
 "metadata": {
  "kernelspec": {
   "display_name": ".venv",
   "language": "python",
   "name": "python3"
  },
  "language_info": {
   "codemirror_mode": {
    "name": "ipython",
    "version": 3
   },
   "file_extension": ".py",
   "mimetype": "text/x-python",
   "name": "python",
   "nbconvert_exporter": "python",
   "pygments_lexer": "ipython3",
   "version": "3.13.5"
  }
 },
 "nbformat": 4,
 "nbformat_minor": 5
}
