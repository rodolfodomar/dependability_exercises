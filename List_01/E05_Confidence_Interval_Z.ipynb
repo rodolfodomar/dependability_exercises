{
 "cells": [
  {
   "cell_type": "markdown",
   "id": "a5976b8b",
   "metadata": {},
   "source": [
    "# E05: Confidence Interval for a Mean with Known σ (z-interval)\n",
    "\n",
    "This notebook addresses Exercise 5, which involves calculating and interpreting a 95% confidence interval for the true mean execution time of a benchmark, given that the population standard deviation ($\\sigma$) is known.\n",
    "\n",
    "## Theoretical Background\n",
    "\n",
    "A confidence interval (CI) provides a range of plausible values for an unknown population parameter, such as the mean ($\\mu$). When the population standard deviation $\\sigma$ is known and the sample size is large ($n \\ge 30$), we can use the z-distribution to construct the interval.\n",
    "\n",
    "The formula for a $(1-\\alpha)\\%$ confidence interval is:\n",
    "$$ \\text{CI} = \\overline{x} \\pm z_{\\alpha/2} \\cdot \\frac{\\sigma}{\\sqrt{n}} $$\n",
    "\n",
    "Where:\n",
    "- $\\overline{x}$ is the sample mean.\n",
    "- $\\sigma$ is the known population standard deviation.\n",
    "- $n$ is the sample size.\n",
    "- $z_{\\alpha/2}$ is the critical value from the standard normal distribution for a given confidence level. For a 95% CI, $\\alpha=0.05$ and $z_{0.025} = 1.96$.\n",
    "- The term $z_{\\alpha/2} \\cdot \\frac{\\sigma}{\\sqrt{n}}$ is known as the **Margin of Error (E)**."
   ]
  },
  {
   "cell_type": "markdown",
   "id": "e37ccf15",
   "metadata": {},
   "source": [
    "## Step 1: Define Given Parameters\n",
    "\n",
    "Let's start by defining the values provided in the problem statement."
   ]
  },
  {
   "cell_type": "code",
   "execution_count": 1,
   "id": "641d90b4",
   "metadata": {},
   "outputs": [],
   "source": [
    "# --- Problem Parameters ---\n",
    "n = 100         # Sample size\n",
    "x_bar = 2.30    # Sample mean (in seconds)\n",
    "sigma = 0.20    # Known population standard deviation (in seconds)\n",
    "confidence_level = 0.95"
   ]
  },
  {
   "cell_type": "markdown",
   "id": "31d25fc2",
   "metadata": {},
   "source": [
    "## Step 2: Determine the Critical Value (z)\n",
    "\n",
    "For a 95% confidence interval, the significance level is $\\alpha = 1 - 0.95 = 0.05$. We need to find the z-score that leaves an area of $\\alpha/2 = 0.025$ in each tail of the standard normal distribution. We can use `scipy.stats` to find this value precisely."
   ]
  },
  {
   "cell_type": "code",
   "execution_count": 2,
   "id": "ee094f82",
   "metadata": {},
   "outputs": [
    {
     "name": "stdout",
     "output_type": "stream",
     "text": [
      "Confidence Level: 95%\n",
      "Alpha (α): 0.050000000000000044\n",
      "Critical z-value (z_α/2): 1.9600\n"
     ]
    }
   ],
   "source": [
    "import scipy.stats as stats\n",
    "\n",
    "alpha = 1 - confidence_level\n",
    "z_critical = stats.norm.ppf(1 - alpha / 2) # ppf is the inverse of the cdf\n",
    "\n",
    "print(f\"Confidence Level: {confidence_level:.0%}\")\n",
    "print(f\"Alpha (α): {alpha}\")\n",
    "print(f\"Critical z-value (z_α/2): {z_critical:.4f}\")"
   ]
  },
  {
   "cell_type": "markdown",
   "id": "37116bd9",
   "metadata": {},
   "source": [
    "## Step 3: Calculate the Margin of Error and Confidence Interval\n",
    "\n",
    "Now we apply the formulas to compute the standard error of the mean (SEM), the margin of error (E), and the final confidence interval bounds."
   ]
  },
  {
   "cell_type": "code",
   "execution_count": 3,
   "id": "ab837d47",
   "metadata": {},
   "outputs": [
    {
     "name": "stdout",
     "output_type": "stream",
     "text": [
      "--- Calculation Results ---\n",
      "Standard Error of the Mean (SEM): 0.0200 s\n",
      "Margin of Error (E): 0.0392 s\n",
      "\n",
      "95% Confidence Interval for the true mean (μ):\n",
      "(2.2608 s, 2.3392 s)\n"
     ]
    }
   ],
   "source": [
    "import numpy as np\n",
    "\n",
    "# Calculate the Standard Error of the Mean (SEM)\n",
    "sem = sigma / np.sqrt(n)\n",
    "\n",
    "# Calculate the Margin of Error (E)\n",
    "margin_of_error = z_critical * sem\n",
    "\n",
    "# Calculate the Confidence Interval bounds\n",
    "lower_bound = x_bar - margin_of_error\n",
    "upper_bound = x_bar + margin_of_error\n",
    "\n",
    "print(\"--- Calculation Results ---\")\n",
    "print(f\"Standard Error of the Mean (SEM): {sem:.4f} s\")\n",
    "print(f\"Margin of Error (E): {margin_of_error:.4f} s\")\n",
    "print(f\"\\n95% Confidence Interval for the true mean (μ):\")\n",
    "print(f\"({lower_bound:.4f} s, {upper_bound:.4f} s)\")"
   ]
  },
  {
   "cell_type": "markdown",
   "id": "1c2e9500",
   "metadata": {},
   "source": [
    "## Step 4: Interpretation\n",
    "\n",
    "The final and most important step is to interpret the result in the context of the original problem.\n",
    "\n",
    "---\n",
    "\n",
    "**Computed 95% Confidence Interval: (2.2608 s, 2.3392 s)**\n",
    "\n",
    "**Interpretation:**\n",
    "\n",
    "We are 95% confident that the true mean execution time of the benchmark lies between 2.2608 and 2.3392 seconds.\n",
    "\n",
    "This does not mean there is a 95% probability that the true mean falls within this specific interval. Rather, it means that if we were to repeat this experiment (running the benchmark 100 times) many times and construct a confidence interval each time, we would expect 95% of those calculated intervals to contain the true, unknown mean execution time ($\\mu$). Our calculated interval of (2.2608, 2.3392) is our best estimate for this range based on our single sample."
   ]
  }
 ],
 "metadata": {
  "kernelspec": {
   "display_name": ".venv",
   "language": "python",
   "name": "python3"
  },
  "language_info": {
   "codemirror_mode": {
    "name": "ipython",
    "version": 3
   },
   "file_extension": ".py",
   "mimetype": "text/x-python",
   "name": "python",
   "nbconvert_exporter": "python",
   "pygments_lexer": "ipython3",
   "version": "3.13.5"
  }
 },
 "nbformat": 4,
 "nbformat_minor": 5
}
