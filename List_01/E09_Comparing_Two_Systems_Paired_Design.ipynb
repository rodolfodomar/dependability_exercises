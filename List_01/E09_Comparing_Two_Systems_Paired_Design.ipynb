{
 "cells": [
  {
   "cell_type": "markdown",
   "id": "6f8ba87e",
   "metadata": {},
   "source": [
    "# E09: Comparing Two Systems (Paired Design)\n",
    "\n",
    "## Objective\n",
    "\n",
    "This notebook addresses the problem of comparing the performance of two different systems, System A and System B. The data is **paired**, meaning that each data point in System A corresponds directly to a data point in System B, as they were both subjected to the same workload.\n",
    "\n",
    "The goal is to determine if there is a statistically significant difference in execution times between the two systems. We will achieve this by:\n",
    "1.  Calculating the paired differences between the execution times.\n",
    "2.  Computing a 95% confidence interval for the mean of these differences.\n",
    "3.  Performing a paired t-test to formally test the hypothesis of no difference.\n",
    "\n",
    "## Setup and Data Loading\n",
    "\n",
    "First, we import the necessary libraries and load the data into a pandas DataFrame."
   ]
  },
  {
   "cell_type": "code",
   "execution_count": 1,
   "id": "3d475ce5",
   "metadata": {},
   "outputs": [
    {
     "name": "stdout",
     "output_type": "stream",
     "text": [
      "Dataset preview:\n",
      "   Workload  System_A  System_B\n",
      "0         1      2.34      2.28\n",
      "1         2      2.31      2.25\n",
      "2         3      2.29      2.25\n",
      "3         4      2.40      2.34\n",
      "4         5      2.36      2.29\n"
     ]
    }
   ],
   "source": [
    "# Import necessary libraries\n",
    "import pandas as pd\n",
    "import numpy as np\n",
    "from scipy import stats\n",
    "import matplotlib.pyplot as plt\n",
    "import seaborn as sns\n",
    "\n",
    "# Set plot style for better aesthetics\n",
    "sns.set_theme(style=\"whitegrid\")\n",
    "\n",
    "# Data from Table 5\n",
    "data = {\n",
    "    'Workload': range(1, 21),\n",
    "    'System_A': [2.34, 2.31, 2.29, 2.40, 2.36, 2.28, 2.33, 2.37, 2.30, 2.35,\n",
    "                 2.32, 2.38, 2.27, 2.41, 2.26, 2.39, 2.34, 2.31, 2.29, 2.36],\n",
    "    'System_B': [2.28, 2.25, 2.25, 2.34, 2.29, 2.23, 2.27, 2.32, 2.25, 2.29,\n",
    "                 2.28, 2.31, 2.22, 2.35, 2.21, 2.33, 2.27, 2.27, 2.24, 2.30]\n",
    "}\n",
    "\n",
    "df = pd.DataFrame(data)\n",
    "\n",
    "print(\"Dataset preview:\")\n",
    "print(df.head())"
   ]
  },
  {
   "cell_type": "markdown",
   "id": "f3416948",
   "metadata": {},
   "source": [
    "### (a) Paired Differences and Confidence Interval\n",
    "\n",
    "As per the exercise, our first step is to compute the paired differences (A - B) for each workload. From this sample of differences, we will calculate its mean, standard deviation, and the 95% confidence interval for the true mean difference."
   ]
  },
  {
   "cell_type": "code",
   "execution_count": 2,
   "id": "e7ae0a00",
   "metadata": {},
   "outputs": [
    {
     "name": "stdout",
     "output_type": "stream",
     "text": [
      "Mean of the differences (d_bar): 0.0555 s\n",
      "Standard deviation of the differences (s_d): 0.0094 s\n",
      "--------------------------------------------------\n",
      "95% Confidence Interval for the mean difference: [0.0511, 0.0599] s\n"
     ]
    }
   ],
   "source": [
    "# (a) Compute the paired differences (A - B)\n",
    "df['Difference_A_B'] = df['System_A'] - df['System_B']\n",
    "\n",
    "# Calculate the mean and standard deviation of the differences\n",
    "mean_diff = df['Difference_A_B'].mean()\n",
    "std_diff = df['Difference_A_B'].std()\n",
    "\n",
    "print(f\"Mean of the differences (d_bar): {mean_diff:.4f} s\")\n",
    "print(f\"Standard deviation of the differences (s_d): {std_diff:.4f} s\")\n",
    "print(\"-\" * 50)\n",
    "\n",
    "# Calculate the 95% confidence interval for the mean difference\n",
    "# We use stats.t.interval from scipy\n",
    "# Parameters:\n",
    "# alpha: The confidence level (0.95 for 95%)\n",
    "# df: Degrees of freedom (n-1)\n",
    "# loc: The sample mean (mean_diff)\n",
    "# scale: The standard error of the mean (std_diff / sqrt(n))\n",
    "n = len(df)\n",
    "dof = n - 1\n",
    "std_error_mean = std_diff / np.sqrt(n)\n",
    "\n",
    "# The t.interval function provides a more direct way\n",
    "ci = stats.t.interval(confidence=0.95, df=dof, loc=mean_diff, scale=std_error_mean)\n",
    "\n",
    "print(f\"95% Confidence Interval for the mean difference: [{ci[0]:.4f}, {ci[1]:.4f}] s\")"
   ]
  },
  {
   "cell_type": "markdown",
   "id": "04517fdf",
   "metadata": {},
   "source": [
    "**Interpretation of the Confidence Interval:**\n",
    "\n",
    "The 95% confidence interval for the mean difference is `[0.0511, 0.0599]`. This interval provides a range of plausible values for the true mean difference between the execution times of System A and System B.\n",
    "\n",
    "Crucially, **the interval does not contain zero**. All values within the interval are positive. This suggests with 95% confidence that the true mean difference is positive, meaning that System A is, on average, slower than System B. The magnitude of this difference is likely between 0.0511 and 0.0599 seconds.\n",
    "\n",
    "### (b) Paired t-test\n",
    "\n",
    "Next, we perform a paired t-test to formally test the null hypothesis ($H_0$) that the mean difference is zero against the alternative hypothesis ($H_1$) that it is not zero. We'll use a significance level of $\\alpha=0.05$."
   ]
  },
  {
   "cell_type": "code",
   "execution_count": 3,
   "id": "6d938105",
   "metadata": {},
   "outputs": [
    {
     "name": "stdout",
     "output_type": "stream",
     "text": [
      "Paired t-test results:\n",
      "t-statistic: 26.2785\n",
      "p-value: 2.118e-16\n",
      "--------------------------------------------------\n",
      "Since the p-value (2.118e-16) is less than alpha (0.05), we reject the null hypothesis.\n",
      "Conclusion: There is a statistically significant difference between the systems.\n"
     ]
    }
   ],
   "source": [
    "# (b) Perform the paired t-test using scipy.stats.ttest_rel\n",
    "# This function takes the two paired samples directly\n",
    "t_statistic, p_value = stats.ttest_rel(df['System_A'], df['System_B'])\n",
    "\n",
    "print(f\"Paired t-test results:\")\n",
    "print(f\"t-statistic: {t_statistic:.4f}\")\n",
    "print(f\"p-value: {p_value:.4g}\") # Using scientific notation for small p-values\n",
    "print(\"-\" * 50)\n",
    "\n",
    "# Decision based on the p-value\n",
    "alpha = 0.05\n",
    "if p_value < alpha:\n",
    "    print(f\"Since the p-value ({p_value:.4g}) is less than alpha ({alpha}), we reject the null hypothesis.\")\n",
    "    print(\"Conclusion: There is a statistically significant difference between the systems.\")\n",
    "else:\n",
    "    print(f\"Since the p-value ({p_value:.4g}) is not less than alpha ({alpha}), we fail to reject the null hypothesis.\")\n",
    "    print(\"Conclusion: There is not enough evidence to claim a significant difference between the systems.\")"
   ]
  },
  {
   "cell_type": "markdown",
   "id": "2c50703c",
   "metadata": {},
   "source": [
    "### Visualization of the Differences\n",
    "\n",
    "While not explicitly requested, visualizing the distribution of the differences is a powerful diagnostic tool. A box plot can show the median, spread (IQR), and identify any outliers. A histogram can show the shape of the distribution."
   ]
  },
  {
   "cell_type": "code",
   "execution_count": 4,
   "id": "6b9facb7",
   "metadata": {},
   "outputs": [
    {
     "data": {
      "image/png": "[encoded data removed]",
      "text/plain": [
       "<Figure size 1000x500 with 1 Axes>"
      ]
     },
     "metadata": {},
     "output_type": "display_data"
    }
   ],
   "source": [
    "# Visualize the distribution of the differences\n",
    "plt.figure(figsize=(10, 5))\n",
    "\n",
    "# Box plot of the differences\n",
    "sns.boxplot(x=df['Difference_A_B'])\n",
    "plt.title('Box Plot of the Paired Differences (System A - System B)')\n",
    "plt.xlabel('Difference in Execution Time (s)')\n",
    "plt.grid(True)\n",
    "\n",
    "plt.show()"
   ]
  },
  {
   "cell_type": "markdown",
   "id": "ea8679fe",
   "metadata": {},
   "source": [
    "## Conclusion\n",
    "\n",
    "The analysis provides strong statistical evidence to answer our initial question.\n",
    "\n",
    "1.  **Confidence Interval Analysis**: The 95% confidence interval for the mean difference in execution time (A - B) is `[0.0511, 0.0599]` seconds. Since this interval is entirely above zero, it implies that `μ_A - μ_B > 0`, or `μ_A > μ_B`. We are 95% confident that System A is, on average, between 0.0511 and 0.0599 seconds slower than System B for the given workloads.\n",
    "\n",
    "2.  **Hypothesis Test Analysis**: The paired t-test yielded a very small p-value (approximately `2.118e-16`), which is significantly less than our chosen significance level of 0.05. This leads us to reject the null hypothesis of no difference. The result is highly statistically significant.\n",
    "\n",
    "**Overall Finding**: Both the confidence interval and the t-test lead to the same conclusion: there is a significant performance difference between the two systems. Specifically, **System B is faster than System A**. The paired design was effective in isolating this difference by controlling for the variability across different workloads."
   ]
  }
 ],
 "metadata": {
  "kernelspec": {
   "display_name": ".venv",
   "language": "python",
   "name": "python3"
  },
  "language_info": {
   "codemirror_mode": {
    "name": "ipython",
    "version": 3
   },
   "file_extension": ".py",
   "mimetype": "text/x-python",
   "name": "python",
   "nbconvert_exporter": "python",
   "pygments_lexer": "ipython3",
   "version": "3.13.5"
  }
 },
 "nbformat": 4,
 "nbformat_minor": 5
}
