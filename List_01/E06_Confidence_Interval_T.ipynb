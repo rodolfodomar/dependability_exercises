{
 "cells": [
  {
   "cell_type": "markdown",
   "id": "25a983fa",
   "metadata": {},
   "source": [
    "# E06: CI for a Mean with Unknown σ (t-interval)\n",
    "\n",
    "This notebook solves Exercise 6, focusing on the construction of a confidence interval for a population mean when the population standard deviation ($\\sigma$) is unknown. This is a very common scenario in practice, requiring the use of the Student's t-distribution.\n",
    "\n",
    "## Theoretical Background\n",
    "\n",
    "When we need to estimate the population mean ($\\mu$) without knowing the population standard deviation ($\\sigma$), we use the sample standard deviation ($s$) as an estimate. This introduces additional uncertainty. The Student's t-distribution is designed to account for this extra uncertainty. It is similar to the Normal distribution but has heavier tails, resulting in a wider, more conservative confidence interval.\n",
    "\n",
    "The appropriateness of the t-distribution rests on two conditions:\n",
    "1.  The population standard deviation $\\sigma$ is unknown.\n",
    "2.  The sample comes from a normally distributed population, OR the sample size ($n$) is sufficiently large (typically $n \\ge 30$) for the Central Limit Theorem to apply, ensuring the sampling distribution of the mean is approximately normal.\n",
    "\n",
    "The formula for the t-interval is:\n",
    "$$ \\text{CI} = \\overline{x} \\pm t_{\\alpha/2, n-1} \\cdot \\frac{s}{\\sqrt{n}} $$\n",
    "\n",
    "Where $t_{\\alpha/2, n-1}$ is the critical value from the t-distribution with $n-1$ degrees of freedom."
   ]
  },
  {
   "cell_type": "markdown",
   "id": "1eb3fc44",
   "metadata": {},
   "source": [
    "## Step 1: Define Given Parameters\n",
    "\n",
    "We begin by defining the parameters provided for the network round-trip time (RTT) data."
   ]
  },
  {
   "cell_type": "code",
   "execution_count": 1,
   "id": "4881de36",
   "metadata": {},
   "outputs": [],
   "source": [
    "# --- Problem Parameters ---\n",
    "n = 60          # Sample size (number of packets)\n",
    "x_bar = 118     # Sample mean (in ms)\n",
    "s = 32          # Sample standard deviation (in ms)\n",
    "confidence_level = 0.95"
   ]
  },
  {
   "cell_type": "markdown",
   "id": "88869f73",
   "metadata": {},
   "source": [
    "## Step 2: Justify the Use of the t-Distribution\n",
    "\n",
    "The problem asks why the t-distribution is appropriate here. There are two key reasons:\n",
    "\n",
    "1.  **Unknown Population Standard Deviation ($\\sigma$):** The problem provides the *sample* standard deviation ($s = 32$ ms), not the population standard deviation. We are using an estimate based on our data, which is the primary condition for using the t-distribution instead of the z-distribution.\n",
    "2.  **Sufficiently Large Sample Size:** The sample size is $n=60$. Since $60 \\ge 30$, the Central Limit Theorem ensures that the sampling distribution of the sample mean ($\\overline{x}$) will be approximately Normal, even if we don't know the distribution of the underlying round-trip times. This satisfies the second condition for the valid application of the t-interval."
   ]
  },
  {
   "cell_type": "markdown",
   "id": "b7c6498e",
   "metadata": {},
   "source": [
    "## Step 3: Determine Degrees of Freedom and Critical Value (t)\n",
    "\n",
    "The shape of the t-distribution depends on the degrees of freedom (df), calculated as $n-1$. We then find the critical t-value for our 95% confidence level."
   ]
  },
  {
   "cell_type": "code",
   "execution_count": 2,
   "id": "f431cc12",
   "metadata": {},
   "outputs": [
    {
     "name": "stdout",
     "output_type": "stream",
     "text": [
      "Degrees of Freedom (df): 59\n",
      "Confidence Level: 95%\n",
      "Critical t-value (t_α/2, 59): 2.0010\n"
     ]
    }
   ],
   "source": [
    "import scipy.stats as stats\n",
    "\n",
    "# Calculate Degrees of Freedom (df)\n",
    "df = n - 1\n",
    "\n",
    "# Determine the critical t-value\n",
    "alpha = 1 - confidence_level\n",
    "t_critical = stats.t.ppf(1 - alpha / 2, df=df)\n",
    "\n",
    "print(f\"Degrees of Freedom (df): {df}\")\n",
    "print(f\"Confidence Level: {confidence_level:.0%}\")\n",
    "print(f\"Critical t-value (t_α/2, {df}): {t_critical:.4f}\")"
   ]
  },
  {
   "cell_type": "markdown",
   "id": "f1c57ca2",
   "metadata": {},
   "source": [
    "## Step 4: Calculate the Margin of Error and Confidence Interval\n",
    "\n",
    "Using the formula, we can now compute the interval for the true mean RTT."
   ]
  },
  {
   "cell_type": "code",
   "execution_count": 3,
   "id": "8db68601",
   "metadata": {},
   "outputs": [
    {
     "name": "stdout",
     "output_type": "stream",
     "text": [
      "--- Calculation Results ---\n",
      "Standard Error of the Mean (SEM): 4.1312 ms\n",
      "Margin of Error (E): 8.2665 ms\n",
      "\n",
      "95% Confidence Interval for the true mean RTT (μ):\n",
      "(109.7335 ms, 126.2665 ms)\n"
     ]
    }
   ],
   "source": [
    "import numpy as np\n",
    "\n",
    "# Calculate the Standard Error of the Mean (SEM)\n",
    "sem = s / np.sqrt(n)\n",
    "\n",
    "# Calculate the Margin of Error (E)\n",
    "margin_of_error = t_critical * sem\n",
    "\n",
    "# Calculate the Confidence Interval bounds\n",
    "lower_bound = x_bar - margin_of_error\n",
    "upper_bound = x_bar + margin_of_error\n",
    "\n",
    "print(\"--- Calculation Results ---\")\n",
    "print(f\"Standard Error of the Mean (SEM): {sem:.4f} ms\")\n",
    "print(f\"Margin of Error (E): {margin_of_error:.4f} ms\")\n",
    "print(f\"\\n95% Confidence Interval for the true mean RTT (μ):\")\n",
    "print(f\"({lower_bound:.4f} ms, {upper_bound:.4f} ms)\")"
   ]
  },
  {
   "cell_type": "markdown",
   "id": "4db2aebc",
   "metadata": {},
   "source": [
    "## Step 5: Interpretation\n",
    "\n",
    "**Computed 95% Confidence Interval: (109.7335 ms, 126.2665 ms)**\n",
    "\n",
    "**Interpretation:**\n",
    "\n",
    "We are 95% confident that the true average round-trip time for network packets is between approximately 109.7 ms and 126.3 ms. This interval provides a range of plausible values for the true mean, based on our sample of 60 packets. The method used ensures that if we were to repeat this sampling process many times, 95% of the intervals we construct would capture the true population mean."
   ]
  }
 ],
 "metadata": {
  "kernelspec": {
   "display_name": ".venv",
   "language": "python",
   "name": "python3"
  },
  "language_info": {
   "codemirror_mode": {
    "name": "ipython",
    "version": 3
   },
   "file_extension": ".py",
   "mimetype": "text/x-python",
   "name": "python",
   "nbconvert_exporter": "python",
   "pygments_lexer": "ipython3",
   "version": "3.13.5"
  }
 },
 "nbformat": 4,
 "nbformat_minor": 5
}
